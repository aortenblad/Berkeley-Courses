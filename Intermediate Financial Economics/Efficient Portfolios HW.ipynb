{
 "cells": [
  {
   "cell_type": "code",
   "execution_count": 3,
   "metadata": {},
   "outputs": [],
   "source": [
    "import numpy as np\n",
    "import pandas as pd\n",
    "import matplotlib.pyplot as plt\n",
    "import sympy as sy"
   ]
  },
  {
   "cell_type": "markdown",
   "metadata": {},
   "source": [
    "<span style=\"font-family:Times New Roman; font-size:12pt;\"> Recall the following definitions: </span>\n",
    "\n",
    "$A = {\\textbf{1}^T}{\\Sigma}^{-1}\\mu = \\mu^{T}\\Sigma^{-1}\\textbf{1}$ <br/>\n",
    "$B = μ^{T}\\Sigma^{−1}\\mu$ <br/>\n",
    "$C = \\textbf{1}^T\\Sigma^{-1}\\textbf{1}$ <br/>\n",
    "$D = BC − A^{2}$ <br/>\n",
    "$H = (\\mu − \\textbf{1}R_{f})^{T}\\Sigma^{-1}(\\mu − \\textbf{1}R_{f})$"
   ]
  },
  {
   "cell_type": "markdown",
   "metadata": {},
   "source": [
    "<span style=\"font-family:Times New Roman; font-size:12pt;\"> Using these defintitions we can write: </span>\n",
    "\n",
    "$g = \\frac{1}{D}[B\\Sigma^{-1}\\textbf{1} - A{\\Sigma}^{-1}\\mu]$ <br/>\n",
    "$h = \\frac{1}{D}[C\\Sigma^{-1}\\mu - A\\Sigma^{-1}\\textbf{1}]$"
   ]
  },
  {
   "cell_type": "code",
   "execution_count": 6,
   "metadata": {
    "scrolled": false
   },
   "outputs": [
    {
     "data": {
      "text/plain": [
       "array([1, 2, 3])"
      ]
     },
     "execution_count": 6,
     "metadata": {},
     "output_type": "execute_result"
    }
   ],
   "source": [
    "Mu = np.array([1, 2, 3])\n",
    "Mu"
   ]
  },
  {
   "cell_type": "code",
   "execution_count": 20,
   "metadata": {},
   "outputs": [
    {
     "data": {
      "text/plain": [
       "array([[ 1, -1,  0],\n",
       "       [-1,  4, -1],\n",
       "       [ 0, -1,  9]])"
      ]
     },
     "execution_count": 20,
     "metadata": {},
     "output_type": "execute_result"
    }
   ],
   "source": [
    "Sigma = np.array([[1, -1, 0], [-1, 4, -1], [0, -1, 9]])\n",
    "Sigma"
   ]
  },
  {
   "cell_type": "code",
   "execution_count": 34,
   "metadata": {},
   "outputs": [
    {
     "data": {
      "text/plain": [
       "1"
      ]
     },
     "execution_count": 34,
     "metadata": {},
     "output_type": "execute_result"
    }
   ],
   "source": [
    "Rf = 1\n",
    "Rf"
   ]
  },
  {
   "cell_type": "code",
   "execution_count": 7,
   "metadata": {},
   "outputs": [
    {
     "data": {
      "text/plain": [
       "array([ 1.529412, -0.058824, -0.470588])"
      ]
     },
     "execution_count": 7,
     "metadata": {},
     "output_type": "execute_result"
    }
   ],
   "source": [
    "g = np.array([1.529412, -0.058824, -0.470588])\n",
    "g"
   ]
  },
  {
   "cell_type": "code",
   "execution_count": 9,
   "metadata": {},
   "outputs": [
    {
     "data": {
      "text/plain": [
       "array([-0.617647,  0.235294,  0.382353])"
      ]
     },
     "execution_count": 9,
     "metadata": {},
     "output_type": "execute_result"
    }
   ],
   "source": [
    "h = np.array([-0.617647, 0.235294, 0.382353])\n",
    "h"
   ]
  },
  {
   "cell_type": "markdown",
   "metadata": {},
   "source": [
    "<span style=\"font-family:Times New Roman; font-size:12pt;\">  For the global minimum variance portfolio we have:\n",
    "\n",
    "$\\mu_{MV} = \\frac{A}{C} = 1.420290$ <br/>\n",
    "$\\sigma_{MV} = (\\frac{1}{C})^\\frac{1}{2} = 0.613850$\n",
    "\n",
    "Hence, \n",
    "\n",
    "$\\mu_{MV} = g + h\\mu_{MV} = \\begin{bmatrix}0.652174\\\\0.275362\\\\0.072464\\\\\\end{bmatrix} $\n",
    "</span>"
   ]
  },
  {
   "cell_type": "code",
   "execution_count": 16,
   "metadata": {},
   "outputs": [
    {
     "data": {
      "text/plain": [
       "array([1. , 1.1, 1.2, 1.3, 1.4, 1.5, 1.6, 1.7, 1.8, 1.9, 2. , 2.1, 2.2,\n",
       "       2.3, 2.4, 2.5, 2.6, 2.7, 2.8, 2.9, 3. ])"
      ]
     },
     "execution_count": 16,
     "metadata": {},
     "output_type": "execute_result"
    }
   ],
   "source": [
    "mu_s = np.linspace(1,3, 21)\n",
    "mu_s"
   ]
  },
  {
   "cell_type": "code",
   "execution_count": 18,
   "metadata": {},
   "outputs": [
    {
     "data": {
      "text/plain": [
       "[array([ 0.911765,  0.17647 , -0.088235]),\n",
       " array([ 0.8500003,  0.1999994, -0.0499997]),\n",
       " array([ 0.7882356,  0.2235288, -0.0117644]),\n",
       " array([0.7264709, 0.2470582, 0.0264709]),\n",
       " array([0.6647062, 0.2705876, 0.0647062]),\n",
       " array([0.6029415, 0.294117 , 0.1029415]),\n",
       " array([0.5411768, 0.3176464, 0.1411768]),\n",
       " array([0.4794121, 0.3411758, 0.1794121]),\n",
       " array([0.4176474, 0.3647052, 0.2176474]),\n",
       " array([0.3558827, 0.3882346, 0.2558827]),\n",
       " array([0.294118, 0.411764, 0.294118]),\n",
       " array([0.2323533, 0.4352934, 0.3323533]),\n",
       " array([0.1705886, 0.4588228, 0.3705886]),\n",
       " array([0.1088239, 0.4823522, 0.4088239]),\n",
       " array([0.0470592, 0.5058816, 0.4470592]),\n",
       " array([-0.0147055,  0.529411 ,  0.4852945]),\n",
       " array([-0.0764702,  0.5529404,  0.5235298]),\n",
       " array([-0.1382349,  0.5764698,  0.5617651]),\n",
       " array([-0.1999996,  0.5999992,  0.6000004]),\n",
       " array([-0.2617643,  0.6235286,  0.6382357]),\n",
       " array([-0.323529,  0.647058,  0.676471])]"
      ]
     },
     "execution_count": 18,
     "metadata": {},
     "output_type": "execute_result"
    }
   ],
   "source": [
    "weights = [g + h*mu for mu in mu_s]\n",
    "weights"
   ]
  },
  {
   "cell_type": "code",
   "execution_count": 27,
   "metadata": {},
   "outputs": [
    {
     "data": {
      "text/plain": [
       "[0.8574929257142592,\n",
       " 0.7648529270409181,\n",
       " 0.6894157799544771,\n",
       " 0.6373197553752277,\n",
       " 0.6145299494955149,\n",
       " 0.6242642728496482,\n",
       " 0.6650961894193651,\n",
       " 0.7318389408182242,\n",
       " 0.818175876392014,\n",
       " 0.9185986770161709,\n",
       " 1.0289915108571108,\n",
       " 1.1464779826539455,\n",
       " 1.2690895300563474,\n",
       " 1.3954758834107952,\n",
       " 1.524698620173102,\n",
       " 1.6560939160652997,\n",
       " 1.7891831853092517,\n",
       " 1.9236148568911453,\n",
       " 2.0591260281987203,\n",
       " 2.1955168224481136,\n",
       " 2.3326329481069243]"
      ]
     },
     "execution_count": 27,
     "metadata": {},
     "output_type": "execute_result"
    }
   ],
   "source": [
    "stdevs = [((weight.transpose().dot(Sigma)).dot(weight))**0.5 for weight in weights]\n",
    "stdevs"
   ]
  },
  {
   "cell_type": "markdown",
   "metadata": {},
   "source": [
    "<span style=\"font-family:Times New Roman; font-size:12pt;\"> Recall:\n",
    "    \n",
    "$\\bar{w} = \\Sigma^{-1}(\\mu - \\textbf{1}R_{f})$ <br/>\n",
    "\n",
    "Plugging in the data gives:\n",
    "\n",
    "$\\bar{w} = \\begin{bmatrix}0.423077\\\\0.423077\\\\0.269231\\\\\\end{bmatrix} $ <br/>\n",
    "\n",
    "To get the tangency portfolio weights normalize $\\bar{w}$ so that the weights sum to 1:\n",
    "\n",
    "$w_T = \\frac{\\bar{w}}{\\textbf{1}^{T}\\bar{w}} = \\begin{bmatrix}0.379310\\\\0.379310\\\\0.241379\\\\\\end{bmatrix} $ <br/>\n",
    "\n",
    "Then:\n",
    "\n",
    "$\\mu_{T} = w_{T}^{T}\\mu = 1.862069 $ <br/>\n",
    "$\\sigma_{T} = (w_{T}^{T}\\Sigma_{T})^\\frac{1}{2} =  0.87914$\n",
    "\n",
    "\n",
    "</span>"
   ]
  },
  {
   "cell_type": "code",
   "execution_count": 36,
   "metadata": {},
   "outputs": [
    {
     "data": {
      "text/plain": [
       "[0.87914, 1.862069]"
      ]
     },
     "execution_count": 36,
     "metadata": {},
     "output_type": "execute_result"
    }
   ],
   "source": [
    "tangency_port = [0.87914, 1.862069]\n",
    "Mu_tangency_port = tangency_port[1]\n",
    "tangency_port"
   ]
  },
  {
   "cell_type": "code",
   "execution_count": null,
   "metadata": {},
   "outputs": [],
   "source": []
  },
  {
   "cell_type": "code",
   "execution_count": 32,
   "metadata": {},
   "outputs": [
    {
     "data": {
      "text/plain": [
       "[0.8574, 1]"
      ]
     },
     "execution_count": 32,
     "metadata": {},
     "output_type": "execute_result"
    }
   ],
   "source": [
    "zero_cov_port = [0.8574, 1]\n",
    "zero_cov_port"
   ]
  },
  {
   "cell_type": "markdown",
   "metadata": {},
   "source": [
    "<span style=\"font-family:Times New Roman; font-size:12pt;\"> The Sharpe ratio of the tangency portfolio is given by:\n",
    "\n",
    "$S_{T} = \\frac{\\mu_{T} - R_f}{\\sigma_{T}} = \\frac{1.862069 − 1}{0.8791} = 0.9805$\n",
    "\n",
    "</span>"
   ]
  },
  {
   "cell_type": "code",
   "execution_count": 88,
   "metadata": {},
   "outputs": [
    {
     "data": {
      "text/plain": [
       "<matplotlib.legend.Legend at 0x21fff9dd710>"
      ]
     },
     "execution_count": 88,
     "metadata": {},
     "output_type": "execute_result"
    },
    {
     "data": {
      "image/png": "[encoded data removed]",
      "text/plain": [
       "<Figure size 432x288 with 1 Axes>"
      ]
     },
     "metadata": {
      "needs_background": "light"
     },
     "output_type": "display_data"
    }
   ],
   "source": [
    "plt.plot(stdevs, mu_s, label='MV Frontier of Risky Assets')\n",
    "plt.ylabel('Expected Return')\n",
    "plt.xlabel('Standard Deviation')\n",
    "\n",
    "std_lins = np.linspace(0, 2.25)\n",
    "Global_EF = [Rf + ((1.862069 - 1)/0.87914)*stdev for stdev in std_lins]\n",
    "plt.plot(std_lins, Global_EF, label='Global Efficient Frontier')\n",
    "plt.scatter([0.87914, 0.613850, 0.8574], [1.862069, 1.420290, 1], marker='x')  \n",
    "plt.text(0.92, 1.75, 'Tangency Portfolio')\n",
    "plt.text(0.67, 1.4, 'Minimum Variance Portfolio')\n",
    "plt.text(0.9, 1, 'Zero-Covariance Portfolio')\n",
    "\n",
    "plt.legend()"
   ]
  },
  {
   "cell_type": "code",
   "execution_count": null,
   "metadata": {},
   "outputs": [],
   "source": [
    "Sharpe_tangecy = "
   ]
  },
  {
   "cell_type": "code",
   "execution_count": null,
   "metadata": {},
   "outputs": [],
   "source": []
  }
 ],
 "metadata": {
  "kernelspec": {
   "display_name": "Python 3",
   "language": "python",
   "name": "python3"
  },
  "language_info": {
   "codemirror_mode": {
    "name": "ipython",
    "version": 3
   },
   "file_extension": ".py",
   "mimetype": "text/x-python",
   "name": "python",
   "nbconvert_exporter": "python",
   "pygments_lexer": "ipython3",
   "version": "3.7.0"
  }
 },
 "nbformat": 4,
 "nbformat_minor": 2
}
